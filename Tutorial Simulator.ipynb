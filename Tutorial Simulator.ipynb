{
 "cells": [
  {
   "cell_type": "code",
   "execution_count": null,
   "metadata": {},
   "outputs": [],
   "source": [
    "wb = 24\n"
   ]
  },
  {
   "cell_type": "code",
   "execution_count": null,
   "metadata": {},
   "outputs": [],
   "source": [
    "from math import cos, sin\n",
    "def smallDriveStep(leftX, leftY, rightX, rightY, heading, leftDist, rightDist):\n",
    "    # returns the new values for left wheel position, right wheel position, and heading\n",
    "    # only works if leftDist and rightDist are both small relative to the wb\n",
    "    newLeftX = cos(heading)*leftDist + leftX\n",
    "    newLeftY = sin(heading)*leftDist + leftY\n",
    "    newRightX = cos(heading)*rightDist + rightX\n",
    "    newRightY = sin(heading)*rightDist + rightY\n",
    "    newHeading = (-leftDist/wb + rightDist/wb) + heading\n",
    "    return newLeftX, newLeftY, newRightX, newRightY, newHeading"
   ]
  },
  {
   "cell_type": "code",
   "execution_count": null,
   "metadata": {},
   "outputs": [],
   "source": [
    "smallDriveStep(0,wb/2,0,-wb/2,0, 4, 4)"
   ]
  },
  {
   "cell_type": "code",
   "execution_count": null,
   "metadata": {},
   "outputs": [],
   "source": [
    "from math import pi\n",
    "def driveStep(leftX, leftY, rightX, rightY, heading, leftDist, rightDist):\n",
    "    # define \"small\" to be .01  * wb\n",
    "    if leftDist< .001*wb and rightDist < .001*wb:\n",
    "        return smallDriveStep(leftX, leftY, rightX, rightY, heading, leftDist, rightDist)\n",
    "    nSteps = int(max(leftDist, rightDist)/(.001*wb) + 1)\n",
    "    for step in range(nSteps):\n",
    "        leftX, leftY, rightX, rightY, heading = smallDriveStep(leftX,\n",
    "            leftY, rightX, rightY, heading, leftDist/nSteps, rightDist/nSteps)\n",
    "    return leftX, leftY, rightX, rightY, heading"
   ]
  },
  {
   "cell_type": "code",
   "execution_count": null,
   "metadata": {},
   "outputs": [],
   "source": [
    "driveStep(0,wb/2,0,-wb/2,0, 4, 4)"
   ]
  },
  {
   "cell_type": "code",
   "execution_count": null,
   "metadata": {},
   "outputs": [],
   "source": [
    "driveStep(0,wb/2,0,-wb/2,0, 0, wb*pi/2)"
   ]
  },
  {
   "cell_type": "code",
   "execution_count": null,
   "metadata": {},
   "outputs": [],
   "source": [
    "pi/2"
   ]
  },
  {
   "cell_type": "code",
   "execution_count": null,
   "metadata": {},
   "outputs": [],
   "source": [
    "class Robot(object):\n",
    "    def __init__(self, wheelbase, maxSpeed):\n",
    "        self.maxSpeed = maxSpeed\n",
    "        self.wheelbase = wheelbase\n",
    "        self.position = (0, 0, 0) # heading, X, Y\n",
    "        self.throttles = (0,0) # left, Right\n",
    "        self.counters = (0, 0) # Left, Right\n",
    "        self.enabled = False\n",
    "    def __repr__(self):\n",
    "        heading, x, y = self.position\n",
    "        leftT, rightT = self.throttles\n",
    "        leftC, rightC = self.counters\n",
    "        return f'Robot: \\n  Heading, x, y: {heading}, {x}, {y}, \\n  Throttles: {leftT}, {rightT}\\n  Counters: {leftC}, {rightC}'\n",
    "    def setPosition(self, position):\n",
    "        self.position = position\n",
    "    def getPosition(self): return self.position\n",
    "    def getThrottles(self): return self.throttles\n",
    "    def setThrottles(self, throttles): \n",
    "        self.throttles = throttles\n",
    "    def getWheelPositions(self):\n",
    "        # returns leftX, leftY, rightX, rightY\n",
    "        (heading, x, y) = self.position\n",
    "        axleHeading = heading + pi/2\n",
    "        leftX = cos(axleHeading)*self.wheelbase/2 + x\n",
    "        leftY = sin(axleHeading)*self.wheelbase/2 + y\n",
    "        rightX = -cos(axleHeading)*self.wheelbase/2 + x\n",
    "        rightY = -sin(axleHeading)*self.wheelbase/2 + y\n",
    "        return (leftX, leftY, rightX, rightY)\n",
    "    def updatePosition(self, deltaT):\n",
    "        (heading, x, y) = self.position\n",
    "        leftX, leftY, rightX, rightY = self.getWheelPositions()\n",
    "        leftDist = self.leftThrottle*self.maxspeed*deltaT\n",
    "        rightDist = self.rightThrottle*self.maxspeed*deltaT\n",
    "        leftX, leftY, rightX, rightY, heading = driveStep(leftX, leftY, rightX, rightY, heading, leftDist, rightDist)\n",
    "        # store the new position based on the wheel positions\n",
    "        self.setPosition((heading, (leftX+rightX)/2, (leftY+rightY)/2))"
   ]
  },
  {
   "cell_type": "code",
   "execution_count": null,
   "metadata": {},
   "outputs": [],
   "source": [
    "r = Robot(24, 100)\n",
    "r"
   ]
  },
  {
   "cell_type": "code",
   "execution_count": null,
   "metadata": {},
   "outputs": [],
   "source": [
    "class AutoProg:\n",
    "    # stages\n",
    "    def __init__(self, robot):\n",
    "        self.robot = robot\n",
    "        self.done = True\n",
    "    # step returns True if the program is finished, False if not\n",
    "    def step(self, deltaT):\n",
    "        if self.done: \n",
    "            self.done = False\n",
    "            self.init()\n",
    "        if not self.done: \n",
    "            self.runStep(deltaT)\n",
    "        return self.done\n",
    "    def init(self): # override me\n",
    "        pass\n",
    "    def runStep(self,deltaT): # override me; set self.done when finished\n",
    "        self.done = True\n",
    "        \n",
    "    \n",
    "class ConditionalProg(AutoProg):\n",
    "    # test is a function returning an integer in range(len(progs))\n",
    "    def __init__(self, robot, test, progs):\n",
    "        super().__init__(robot)\n",
    "        self.test = test\n",
    "        self.progs = progs\n",
    "    def init(self):\n",
    "        self.activeProg = self.progs[self.test()]\n",
    "    def runStep(self, deltaT):\n",
    "        self.done = self.activeProg.step(deltaT)\n",
    "    \n",
    "class SequentialProg(AutoProg):\n",
    "    def __init__(self, robot, progs):\n",
    "        super().__init__(robot)\n",
    "        self.progs = progs\n",
    "    def init(self):\n",
    "        self.pos = 0\n",
    "    def runStep(self, deltaT):\n",
    "        if self.pos >= len(self.progs):\n",
    "            self.done = True\n",
    "            return\n",
    "        if self.progs[self.pos].step(deltaT):\n",
    "            self.pos += 1\n",
    "        \n",
    "class FirstToFinish(AutoProg):\n",
    "    def __init__(self, robot, progs):\n",
    "        super().__init__(robot)\n",
    "        self.progs = progs\n",
    "    def init(self):\n",
    "        pass # nothing to do\n",
    "    def runStep(self, deltaT):\n",
    "        for p in self.progs:\n",
    "            if p.step(deltaT):\n",
    "                self.done = True\n",
    "            break\n",
    "\n",
    "class ParallelProg(AutoProg):\n",
    "    def __init__(self, robot, progs):\n",
    "        super().__init__(robot)\n",
    "        self.progs = progs\n",
    "    def init(self):\n",
    "        self.finishedCount = 0\n",
    "        for p in self.progs:\n",
    "            p.done = False\n",
    "            p.init()\n",
    "            if p.done: self.finishedCount += 1\n",
    "    def runStep(self, deltaT):\n",
    "        for p in self.progs:\n",
    "            if not p.done: \n",
    "                done = p.step(deltaT)\n",
    "                if done: self.finishedCount += 1\n",
    "        if self.finishedCount == len(self.progs):\n",
    "            self.done = True\n",
    "\n",
    "from time import clock   \n",
    "from IPython.core.debugger import set_trace\n",
    "class Timeout(AutoProg):\n",
    "    def __init__(self, robot, timeout):\n",
    "        super().__init__(robot)\n",
    "        self.timeout = timeout\n",
    "    def init(self):\n",
    "        self.finishTime = clock()+self.timeout\n",
    "    def runStep(self, deltaT):\n",
    "        if clock() >= self.finishTime:\n",
    "            self.done = True"
   ]
  },
  {
   "cell_type": "code",
   "execution_count": null,
   "metadata": {},
   "outputs": [],
   "source": [
    "from time import sleep\n",
    "# test programs with a 10 second limit\n",
    "def progTest(p, title):\n",
    "    print(f'{title} Start time {clock()}')\n",
    "    for i in range(1000):\n",
    "        if p.step(.01):\n",
    "            break\n",
    "        sleep(0.01)\n",
    "    print(f'{title} Finish time {clock()}')"
   ]
  },
  {
   "cell_type": "code",
   "execution_count": null,
   "metadata": {},
   "outputs": [],
   "source": [
    "r = Robot(24, 100)\n",
    "twoSeconds = Timeout(r, 2)\n",
    "fourSeconds = Timeout(r, 4)\n",
    "sequential = SequentialProg(r, [twoSeconds, fourSeconds])\n",
    "parallel = ParallelProg(r, [twoSeconds, fourSeconds])\n",
    "firstFinish = FirstToFinish(r, [twoSeconds, fourSeconds])\n",
    "progTest(twoSeconds, \"Two Seconds\")\n",
    "progTest(fourSeconds, \"Four Seconds\")\n",
    "progTest(sequential, \"Sequential\")\n",
    "progTest(parallel, \"Parallel\")\n",
    "progTest(firstFinish, \"FirstToFinish\")\n",
    "nullProg = AutoProg(r)\n",
    "progTest(nullProg, 'Null Program')"
   ]
  },
  {
   "cell_type": "code",
   "execution_count": null,
   "metadata": {},
   "outputs": [],
   "source": [
    "progTest(firstFinish, \"first\")"
   ]
  },
  {
   "cell_type": "code",
   "execution_count": null,
   "metadata": {},
   "outputs": [],
   "source": [
    "from collections import namedtuple\n",
    "Position = namedtuple('Position', 'heading x y')"
   ]
  },
  {
   "cell_type": "code",
   "execution_count": null,
   "metadata": {},
   "outputs": [],
   "source": [
    "Position(0,0,0)"
   ]
  },
  {
   "cell_type": "code",
   "execution_count": null,
   "metadata": {},
   "outputs": [],
   "source": [
    "_"
   ]
  },
  {
   "cell_type": "code",
   "execution_count": null,
   "metadata": {},
   "outputs": [],
   "source": [
    "h,x,y"
   ]
  },
  {
   "cell_type": "code",
   "execution_count": null,
   "metadata": {},
   "outputs": [],
   "source": []
  }
 ],
 "metadata": {
  "kernelspec": {
   "display_name": "Python 3",
   "language": "python",
   "name": "python3"
  },
  "language_info": {
   "codemirror_mode": {
    "name": "ipython",
    "version": 3
   },
   "file_extension": ".py",
   "mimetype": "text/x-python",
   "name": "python",
   "nbconvert_exporter": "python",
   "pygments_lexer": "ipython3",
   "version": "3.6.5"
  }
 },
 "nbformat": 4,
 "nbformat_minor": 2
}
