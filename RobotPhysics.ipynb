{
 "cells": [
  {
   "cell_type": "code",
   "execution_count": null,
   "metadata": {},
   "outputs": [],
   "source": [
    "import numpy as np"
   ]
  },
  {
   "cell_type": "code",
   "execution_count": null,
   "metadata": {},
   "outputs": [],
   "source": [
    "import matplotlib.pyplot as plt"
   ]
  },
  {
   "cell_type": "code",
   "execution_count": null,
   "metadata": {},
   "outputs": [],
   "source": [
    "%matplotlib inline"
   ]
  },
  {
   "cell_type": "code",
   "execution_count": null,
   "metadata": {},
   "outputs": [],
   "source": [
    "x = np.linspace(0, np.pi*2, 300)"
   ]
  },
  {
   "cell_type": "code",
   "execution_count": null,
   "metadata": {},
   "outputs": [],
   "source": [
    "y = np.sin(x**2)"
   ]
  },
  {
   "cell_type": "code",
   "execution_count": null,
   "metadata": {},
   "outputs": [],
   "source": [
    "plt.plot(x,y)\n",
    "plt.title(\"sin**2\")"
   ]
  },
  {
   "cell_type": "code",
   "execution_count": null,
   "metadata": {},
   "outputs": [],
   "source": [
    "# linear physics\n",
    "maxspeed = 100 # units/second\n",
    "accel = maxspeed/4\n",
    "def v(t):\n",
    "    return min(t*accel, maxspeed)\n",
    "x = np.linspace(0,10, 100)\n",
    "y = (np.vectorize(v))(x)\n",
    "plt.plot(x,y)\n",
    "plt.title(\"Linear Acceleration\")"
   ]
  },
  {
   "cell_type": "code",
   "execution_count": null,
   "metadata": {},
   "outputs": [],
   "source": [
    "from math import *\n",
    "def vExp(t):\n",
    "    return maxspeed * (1-exp(-t))\n",
    "y = (np.vectorize(vExp))(x)\n",
    "def aExp(t):\n",
    "    return maxspeed*exp(-t)\n",
    "plt.plot(x,y)\n",
    "z = (np.vectorize(aExp))(x)\n",
    "plt.plot(x,z)\n",
    "plt.title(\"Exponential\")"
   ]
  },
  {
   "cell_type": "code",
   "execution_count": null,
   "metadata": {},
   "outputs": [],
   "source": [
    "plt.plot(y,z)"
   ]
  },
  {
   "cell_type": "code",
   "execution_count": null,
   "metadata": {},
   "outputs": [],
   "source": [
    "def vSqrt(t):\n",
    "    return maxspeed*min(1, sqrt(t/4))\n",
    "y = (np.vectorize(vSqrt))(x)\n",
    "plt.plot(x,y)\n",
    "plt.title(\"sqrt\")"
   ]
  },
  {
   "cell_type": "code",
   "execution_count": null,
   "metadata": {},
   "outputs": [],
   "source": [
    "def vSqrt(t):\n",
    "    return maxspeed*min(1, sqrt(t)/2)\n",
    "y = (np.vectorize(vSqrt))(x)\n",
    "def aSqrt(t):\n",
    "    if t>=4: return 0\n",
    "    return maxspeed* 1/(4*sqrt(t+.01))\n",
    "z = (np.vectorize(aSqrt))(x)\n",
    "plt.plot(x,y,x,z)\n",
    "plt.title(\"sqrt\")"
   ]
  },
  {
   "cell_type": "code",
   "execution_count": null,
   "metadata": {},
   "outputs": [],
   "source": [
    "plt.plot(y,z)"
   ]
  },
  {
   "cell_type": "code",
   "execution_count": null,
   "metadata": {},
   "outputs": [],
   "source": [
    "# Deceleration\n",
    "def dSqrt(t):\n",
    "    return maxspeed*max(0, 1-sqrt(t/4))\n",
    "y = (np.vectorize(dSqrt))(x)\n",
    "plt.plot(x,y)\n",
    "plt.title(\"sqrt\")\n"
   ]
  },
  {
   "cell_type": "code",
   "execution_count": null,
   "metadata": {},
   "outputs": [],
   "source": [
    "def dExp(t):\n",
    "    return 1-vExp(t)\n",
    "y = (np.vectorize(dExp))(x)\n",
    "plt.plot(x,y)\n",
    "plt.title(\"Exponential Deceleration\")"
   ]
  },
  {
   "cell_type": "code",
   "execution_count": null,
   "metadata": {},
   "outputs": [],
   "source": [
    "xAxis = np.linspace(0,1,100)"
   ]
  },
  {
   "cell_type": "code",
   "execution_count": null,
   "metadata": {},
   "outputs": [],
   "source": [
    "def halfx(x): return x/2\n",
    "vec = np.vectorize(halfx)(xAxis)\n",
    "plt.plot(xAxis,vec,scaley=False)"
   ]
  },
  {
   "cell_type": "code",
   "execution_count": null,
   "metadata": {},
   "outputs": [],
   "source": [
    "from math import atan2, cos, sqrt, pi\n",
    "def driveArc(xc, yc, xd, yd, heading):\n",
    "    # Now we need to find the radius and distance to drive from current point\n",
    "    # xc, yc to destination xd, yd around a circle when the heading at the current\n",
    "    # point is theta. \n",
    "    # To do this we will find the perpendicular bisector of (xc,yc)->(xd,yd) and \n",
    "    # find the center of the circle where that line intersects the radius which will\n",
    "    # be perpendicular to theta.\n",
    "    # We can show that the angle, theta, between the radius at xc,yc and the perpendicular\n",
    "    # bisector is equal to the angle between the heading and (xc,yc)->(xd,yd).\n",
    "    # Knowing the length of (xc,yc)->(xd,yd) will then let us calculate the radius.\n",
    "\n",
    "\n",
    "    # angle of (xc,yc)->(xd,yd)\n",
    "    directAngle = atan2(yd-yc,xd-yc)\n",
    "    deltaAngle = heading-directAngle\n",
    "    if deltaAngle > pi: deltaAngle -= 2*pi\n",
    "    if deltaAngle < -pi: deltaAngle += 2*pi\n",
    "    theta = abs(deltaAngle)\n",
    "    directDistance = sqrt((yd-yc)**2+(xd-xc)**2)\n",
    "    if theta==0:\n",
    "        # important special case to avoid division by 0\n",
    "        return (0, 0, directDistance) # 0: drive straight, 0: don't care, directDistance\n",
    "    radius = (directDistance/2)/sin(theta)\n",
    "    driveDistance = 2*theta*radius\n",
    "    if deltaAngle>0:\n",
    "        return (1, radius, driveDistance, deltaAngle)\n",
    "    else:\n",
    "        return (-1, radius, driveDistance, deltaAngle)\n",
    "\n"
   ]
  },
  {
   "cell_type": "code",
   "execution_count": null,
   "metadata": {},
   "outputs": [],
   "source": [
    "driveArc(1,1,1,4,2*pi/3)"
   ]
  },
  {
   "cell_type": "markdown",
   "metadata": {},
   "source": [
    "### c"
   ]
  }
 ],
 "metadata": {
  "kernelspec": {
   "display_name": "Python 3",
   "language": "python",
   "name": "python3"
  },
  "language_info": {
   "codemirror_mode": {
    "name": "ipython",
    "version": 3
   },
   "file_extension": ".py",
   "mimetype": "text/x-python",
   "name": "python",
   "nbconvert_exporter": "python",
   "pygments_lexer": "ipython3",
   "version": "3.6.5"
  }
 },
 "nbformat": 4,
 "nbformat_minor": 2
}
